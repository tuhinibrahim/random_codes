{
  "nbformat": 4,
  "nbformat_minor": 0,
  "metadata": {
    "colab": {
      "provenance": [],
      "authorship_tag": "ABX9TyO7nBm1Lor7cXo95Bg5Z/9e",
      "include_colab_link": true
    },
    "kernelspec": {
      "name": "python3",
      "display_name": "Python 3"
    },
    "language_info": {
      "name": "python"
    }
  },
  "cells": [
    {
      "cell_type": "markdown",
      "metadata": {
        "id": "view-in-github",
        "colab_type": "text"
      },
      "source": [
        "<a href=\"https://colab.research.google.com/github/tuhinibrahim/random_codes/blob/master/Untitled2.ipynb\" target=\"_parent\"><img src=\"https://colab.research.google.com/assets/colab-badge.svg\" alt=\"Open In Colab\"/></a>"
      ]
    },
    {
      "cell_type": "code",
      "execution_count": 5,
      "metadata": {
        "colab": {
          "base_uri": "https://localhost:8080/"
        },
        "id": "SrZnclG82IND",
        "outputId": "d223c076-ebaf-4629-937d-440ae289b109"
      },
      "outputs": [
        {
          "output_type": "stream",
          "name": "stdout",
          "text": [
            "I love programming.\n",
            "\n",
            "I love making games.\n"
          ]
        }
      ],
      "source": [
        "filename = '/content/journal.txt'\n",
        "with open(filename) as file_object:\n",
        "  lines = file_object.readlines()\n",
        "\n",
        "for line in lines:\n",
        "  print(line)\n",
        "\n",
        "filename = 'journal.txt'\n",
        "with open(filename, 'w') as file_object:\n",
        "  file_object.write(\"I love programming.\")\n",
        "\n",
        "filename = 'journal.txt'\n",
        "with open(filename, 'a') as file_object:\n",
        "  file_object.write(\"\\nI love making games.\")"
      ]
    },
    {
      "cell_type": "code",
      "source": [
        "print('FLB' in 'FLB')"
      ],
      "metadata": {
        "colab": {
          "base_uri": "https://localhost:8080/"
        },
        "id": "2i4RrW5v2hum",
        "outputId": "17ffb5a2-69a5-49b8-9e32-e2770d94c2dd"
      },
      "execution_count": 3,
      "outputs": [
        {
          "output_type": "stream",
          "name": "stdout",
          "text": [
            "True\n"
          ]
        }
      ]
    },
    {
      "cell_type": "code",
      "source": [
        "print('Rakib' in 'Rakib')"
      ],
      "metadata": {
        "colab": {
          "base_uri": "https://localhost:8080/"
        },
        "id": "t6mk35Ml2qWB",
        "outputId": "6ab1b848-cd5f-4806-84d9-e6ed6c3c9db6"
      },
      "execution_count": 4,
      "outputs": [
        {
          "output_type": "stream",
          "name": "stdout",
          "text": [
            "True\n"
          ]
        }
      ]
    },
    {
      "cell_type": "code",
      "source": [],
      "metadata": {
        "id": "bQ-4GzQW2wr0"
      },
      "execution_count": null,
      "outputs": []
    }
  ]
}