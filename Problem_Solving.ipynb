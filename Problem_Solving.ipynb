{
  "nbformat": 4,
  "nbformat_minor": 0,
  "metadata": {
    "colab": {
      "provenance": [],
      "authorship_tag": "ABX9TyPsedZOW08/xnP90a1tjdrC",
      "include_colab_link": true
    },
    "kernelspec": {
      "name": "python3",
      "display_name": "Python 3"
    },
    "language_info": {
      "name": "python"
    }
  },
  "cells": [
    {
      "cell_type": "markdown",
      "metadata": {
        "id": "view-in-github",
        "colab_type": "text"
      },
      "source": [
        "<a href=\"https://colab.research.google.com/github/tuhinibrahim/random_codes/blob/master/Problem_Solving.ipynb\" target=\"_parent\"><img src=\"https://colab.research.google.com/assets/colab-badge.svg\" alt=\"Open In Colab\"/></a>"
      ]
    },
    {
      "cell_type": "code",
      "execution_count": 1,
      "metadata": {
        "colab": {
          "base_uri": "https://localhost:8080/"
        },
        "id": "_9nCOPZCSzB4",
        "outputId": "821424f2-14c6-4285-80be-da67f7f930c5"
      },
      "outputs": [
        {
          "output_type": "stream",
          "name": "stdout",
          "text": [
            "Hello Tuhin\n"
          ]
        }
      ],
      "source": [
        "import turtle\n",
        "def my_function(Tuhin):\n",
        "  print(f\"Hello {Tuhin}\")\n",
        "my_function(\"Tuhin\")"
      ]
    },
    {
      "cell_type": "code",
      "source": [
        "!pip install PyCharm"
      ],
      "metadata": {
        "colab": {
          "base_uri": "https://localhost:8080/"
        },
        "id": "zK6r58k8TUpu",
        "outputId": "2a34ab22-b128-420a-9c69-fdffc46c3d4e"
      },
      "execution_count": 2,
      "outputs": [
        {
          "output_type": "stream",
          "name": "stdout",
          "text": [
            "\u001b[31mERROR: Could not find a version that satisfies the requirement PyCharm (from versions: none)\u001b[0m\u001b[31m\n",
            "\u001b[0m\u001b[31mERROR: No matching distribution found for PyCharm\u001b[0m\u001b[31m\n",
            "\u001b[0m"
          ]
        }
      ]
    },
    {
      "cell_type": "code",
      "source": [
        "print('He said, \"Yes!\"')"
      ],
      "metadata": {
        "colab": {
          "base_uri": "https://localhost:8080/"
        },
        "id": "MITHYA_DZ_7x",
        "outputId": "251eb4d5-fe5b-43be-cb6f-dd3e998408f8"
      },
      "execution_count": 3,
      "outputs": [
        {
          "output_type": "stream",
          "name": "stdout",
          "text": [
            "He said, \"Yes!\"\n"
          ]
        }
      ]
    },
    {
      "cell_type": "code",
      "source": [
        "name = \"Ronaldo\"\n",
        "age = 41\n",
        "print(f\"Hi, I'm {name} and I am {age} years old.\")"
      ],
      "metadata": {
        "colab": {
          "base_uri": "https://localhost:8080/"
        },
        "id": "Lp_uEeEZcbWW",
        "outputId": "71505354-f6c3-4e18-9417-51aa14a02917"
      },
      "execution_count": 4,
      "outputs": [
        {
          "output_type": "stream",
          "name": "stdout",
          "text": [
            "Hi, I'm Ronaldo and I am 41 years old.\n"
          ]
        }
      ]
    },
    {
      "cell_type": "code",
      "source": [],
      "metadata": {
        "id": "Me3mZ4hCdOyW"
      },
      "execution_count": 4,
      "outputs": []
    },
    {
      "cell_type": "code",
      "source": [
        "string1 = \"His name is \"\n",
        "string2 = \"Cristiano Ronaldo!\"\n",
        "print(string1 + string2)"
      ],
      "metadata": {
        "id": "rgEUwQmsgemL",
        "colab": {
          "base_uri": "https://localhost:8080/"
        },
        "outputId": "c1038821-24c7-47cc-ec66-3f16067737f5"
      },
      "execution_count": 5,
      "outputs": [
        {
          "output_type": "stream",
          "name": "stdout",
          "text": [
            "His name is Cristiano Ronaldo!\n"
          ]
        }
      ]
    },
    {
      "cell_type": "code",
      "source": [
        "print(\"Welcome to Pete's Garage\")\n",
        "name = input('Name')\n",
        "job_number = int(input('117'))\n",
        "repair_cost = 100\n",
        "discount = 15\n",
        "total = repair_cost - discount\n",
        "print(name,\", the total for\",{job_number},\"is\" ,total)\n",
        "print('Thank you for your business')"
      ],
      "metadata": {
        "colab": {
          "base_uri": "https://localhost:8080/"
        },
        "id": "Ae6OTiuoab0E",
        "outputId": "1954e151-6cdc-4054-e452-cbf7f4998f56"
      },
      "execution_count": 6,
      "outputs": [
        {
          "output_type": "stream",
          "name": "stdout",
          "text": [
            "Welcome to Pete's Garage\n",
            "NameTuhin\n",
            "117123\n",
            "Tuhin , the total for {123} is 85\n",
            "Thank you for your business\n"
          ]
        }
      ]
    },
    {
      "cell_type": "code",
      "source": [],
      "metadata": {
        "id": "BP4ZZGQUkntm"
      },
      "execution_count": 6,
      "outputs": []
    },
    {
      "cell_type": "code",
      "source": [
        "# Online registration form\n",
        "print(\"Welcome to ABC Uni!\")\n",
        "print(\"Please enter the required information to begin\")\n",
        "s_f_n = input(\"Enter your name:\")\n",
        "phone = int(input(\"Enter your phone number:\"))\n",
        "email = input(\"Enter your email:\")\n",
        "crs = input(\"Choose your course:\")"
      ],
      "metadata": {
        "colab": {
          "base_uri": "https://localhost:8080/"
        },
        "id": "Dn40jYu5cH60",
        "outputId": "40b950a2-a587-465a-9174-1c9d5e34c77c"
      },
      "execution_count": 7,
      "outputs": [
        {
          "name": "stdout",
          "output_type": "stream",
          "text": [
            "Welcome to ABC Uni!\n",
            "Please enter the required information to begin\n",
            "Enter your name:Tuhin\n",
            "Enter your phone number:123\n",
            "Enter your email:123@gmail.com\n",
            "Choose your course:HUM101\n"
          ]
        }
      ]
    },
    {
      "cell_type": "code",
      "source": [
        "username = input(\"Enter username:\")\n",
        "password = input(\"Enter password:\")\n",
        "print(\"You have entered the following\")\n",
        "print(username.lower())\n",
        "print(password.upper())\n",
        "print(password == password.lower)"
      ],
      "metadata": {
        "colab": {
          "base_uri": "https://localhost:8080/"
        },
        "id": "TKZWRIZGleMt",
        "outputId": "29fee1a2-480d-4eb2-d6cf-904d3c0837a0"
      },
      "execution_count": 8,
      "outputs": [
        {
          "output_type": "stream",
          "name": "stdout",
          "text": [
            "Enter username:sadude\n",
            "Enter password:123\n",
            "You have entered the following\n",
            "sadude\n",
            "123\n",
            "False\n"
          ]
        }
      ]
    },
    {
      "cell_type": "code",
      "source": [],
      "metadata": {
        "id": "vAD86tnAl1k7"
      },
      "execution_count": 8,
      "outputs": []
    },
    {
      "cell_type": "code",
      "source": [
        "grades = [\"A\", \"A+\", \"B\", \"C\", \"C+\", \"D\", \"F\"]\n",
        "for x in grades:\n",
        "  if x == \"A\" or x == \"B\":\n",
        "    x = True\n",
        "    if x == True:\n",
        "      print(\"Pass\")\n",
        "  else:\n",
        "   x = False\n",
        "   print(\"Fail\")"
      ],
      "metadata": {
        "colab": {
          "base_uri": "https://localhost:8080/"
        },
        "id": "P-H4jQn8mqbC",
        "outputId": "65034f5e-67b0-48e9-cb22-51db0fdbff88"
      },
      "execution_count": 9,
      "outputs": [
        {
          "output_type": "stream",
          "name": "stdout",
          "text": [
            "Pass\n",
            "Fail\n",
            "Pass\n",
            "Fail\n",
            "Fail\n",
            "Fail\n",
            "Fail\n"
          ]
        }
      ]
    },
    {
      "cell_type": "code",
      "source": [
        "initial_message = \"This is my initial message!\"\n",
        "message_length = len(initial_message)\n",
        "print(message_length)"
      ],
      "metadata": {
        "colab": {
          "base_uri": "https://localhost:8080/"
        },
        "id": "LQDETRGNnddg",
        "outputId": "77926fdd-b758-4131-a8b8-53d210cbde37"
      },
      "execution_count": 10,
      "outputs": [
        {
          "output_type": "stream",
          "name": "stdout",
          "text": [
            "27\n"
          ]
        }
      ]
    },
    {
      "cell_type": "code",
      "source": [
        "print(\"Welcome to AngryGoblin YouTube Channel\")\n",
        "name = input(\"What Shall I Stream Next?\")\n",
        "if name == \"Days Gone\":\n",
        "  print('Thank you for your time and taking part in this survey')\n",
        "  print(\"You have chosen\", name,\"\")\n",
        "elif name == \"Resident Evil 2\":\n",
        "  print('Thank you for your time and taking part in this survey')\n",
        "  print(\"You have chosen\", name,\"\")\n",
        "elif name == \"Call of Duty: Black Ops\":\n",
        "  print('Thank you for your time and taking part in this survey')\n",
        "  print(\"You have chosen\", name,\"\")\n",
        "elif name == \"Far Cry 6\":\n",
        "  print('Thank you for your time and taking part in this survey')\n",
        "  print(\"You have chosen\", name,\"\")\n",
        "elif name == \"God of War\":\n",
        "  print('Thank you for your time and taking part in this survey')\n",
        "  print(\"You have chosen\", name,\"\")\n",
        "elif name == \"God of War 2\":\n",
        "  print('Thank you for your time and taking part in this survey')\n",
        "  print(\"You have chosen\", name,\"\")\n",
        "else :\n",
        " print('Sorry I do not play this game. But Thank you for your time and taking part in this survey')"
      ],
      "metadata": {
        "id": "kDixwpZ3ruC-",
        "colab": {
          "base_uri": "https://localhost:8080/"
        },
        "outputId": "fd2cfc6a-9973-4c6f-8db4-1b5b9162c59c"
      },
      "execution_count": 21,
      "outputs": [
        {
          "output_type": "stream",
          "name": "stdout",
          "text": [
            "Welcome to AngryGoblin YouTube Channel\n",
            "What Shall I Stream Next?Vice City\n",
            "Sorry I do not play this game. But Thank you for your time and taking part in this survey\n"
          ]
        }
      ]
    },
    {
      "cell_type": "code",
      "source": [],
      "metadata": {
        "id": "9IuxdkZk7l8R"
      },
      "execution_count": null,
      "outputs": []
    }
  ]
}