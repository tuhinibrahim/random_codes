{
  "nbformat": 4,
  "nbformat_minor": 0,
  "metadata": {
    "colab": {
      "provenance": [],
      "authorship_tag": "ABX9TyOxX9d1WrUYuA18EjHyTM5Y",
      "include_colab_link": true
    },
    "kernelspec": {
      "name": "python3",
      "display_name": "Python 3"
    },
    "language_info": {
      "name": "python"
    }
  },
  "cells": [
    {
      "cell_type": "markdown",
      "metadata": {
        "id": "view-in-github",
        "colab_type": "text"
      },
      "source": [
        "<a href=\"https://colab.research.google.com/github/tuhinibrahim/random_codes/blob/master/Problem_Solving.ipynb\" target=\"_parent\"><img src=\"https://colab.research.google.com/assets/colab-badge.svg\" alt=\"Open In Colab\"/></a>"
      ]
    },
    {
      "cell_type": "code",
      "execution_count": null,
      "metadata": {
        "colab": {
          "base_uri": "https://localhost:8080/"
        },
        "id": "_9nCOPZCSzB4",
        "outputId": "eea9c823-7d44-4946-cedc-69ee9c89c0b7"
      },
      "outputs": [
        {
          "output_type": "stream",
          "name": "stdout",
          "text": [
            "Hello Tuhin\n"
          ]
        }
      ],
      "source": [
        "import turtle\n",
        "def my_function(Tuhin):\n",
        "  print(f\"Hello {Tuhin}\")\n",
        "my_function(\"Tuhin\")"
      ]
    },
    {
      "cell_type": "code",
      "source": [
        "!pip install PyCharm"
      ],
      "metadata": {
        "colab": {
          "base_uri": "https://localhost:8080/"
        },
        "id": "zK6r58k8TUpu",
        "outputId": "04171635-ebca-462a-f3ef-f75210625e89"
      },
      "execution_count": null,
      "outputs": [
        {
          "output_type": "stream",
          "name": "stdout",
          "text": [
            "\u001b[31mERROR: Could not find a version that satisfies the requirement PyCharm (from versions: none)\u001b[0m\u001b[31m\n",
            "\u001b[0m\u001b[31mERROR: No matching distribution found for PyCharm\u001b[0m\u001b[31m\n",
            "\u001b[0m"
          ]
        }
      ]
    },
    {
      "cell_type": "code",
      "source": [
        "print('He said, \"Yes!\"')"
      ],
      "metadata": {
        "colab": {
          "base_uri": "https://localhost:8080/"
        },
        "id": "MITHYA_DZ_7x",
        "outputId": "c6e222aa-f81f-42c0-853c-bb0cfbe45e2d"
      },
      "execution_count": null,
      "outputs": [
        {
          "output_type": "stream",
          "name": "stdout",
          "text": [
            "He said, \"Yes!\"\n"
          ]
        }
      ]
    },
    {
      "cell_type": "code",
      "source": [
        "name = \"Ronaldo\"\n",
        "age = 41\n",
        "print(f\"Hi, I'm {name} and I am {age} years old.\")"
      ],
      "metadata": {
        "colab": {
          "base_uri": "https://localhost:8080/"
        },
        "id": "Lp_uEeEZcbWW",
        "outputId": "235c7ed7-5c55-4ab4-c977-03ace3252dcf"
      },
      "execution_count": null,
      "outputs": [
        {
          "output_type": "stream",
          "name": "stdout",
          "text": [
            "Hi, I'm Ronaldo and I am 41 years old.\n"
          ]
        }
      ]
    },
    {
      "cell_type": "code",
      "source": [],
      "metadata": {
        "colab": {
          "base_uri": "https://localhost:8080/",
          "height": 141
        },
        "id": "Me3mZ4hCdOyW",
        "outputId": "11589adb-4ee6-4913-f182-59bb39abc10e"
      },
      "execution_count": null,
      "outputs": [
        {
          "output_type": "error",
          "ename": "NameError",
          "evalue": "name 'test' is not defined",
          "traceback": [
            "\u001b[0;31m---------------------------------------------------------------------------\u001b[0m",
            "\u001b[0;31mNameError\u001b[0m                                 Traceback (most recent call last)",
            "\u001b[0;32m<ipython-input-16-cf8402855238>\u001b[0m in \u001b[0;36m<cell line: 0>\u001b[0;34m()\u001b[0m\n\u001b[0;32m----> 1\u001b[0;31m \u001b[0mtest\u001b[0m\u001b[0;34m.\u001b[0m\u001b[0mcreate\u001b[0m\u001b[0;34m\u001b[0m\u001b[0;34m\u001b[0m\u001b[0m\n\u001b[0m",
            "\u001b[0;31mNameError\u001b[0m: name 'test' is not defined"
          ]
        }
      ]
    },
    {
      "cell_type": "code",
      "source": [
        "string1 = \"His name is \"\n",
        "string2 = \"Cristiano Ronaldo!\"\n",
        "print(string1 + string2)"
      ],
      "metadata": {
        "id": "rgEUwQmsgemL",
        "colab": {
          "base_uri": "https://localhost:8080/"
        },
        "outputId": "db3c4b87-bcab-41f6-953d-76cf9bac43bb"
      },
      "execution_count": 22,
      "outputs": [
        {
          "output_type": "stream",
          "name": "stdout",
          "text": [
            "His name is Cristiano Ronaldo!\n"
          ]
        }
      ]
    },
    {
      "cell_type": "code",
      "source": [
        "print(\"Welcome to Pete's Garage\")\n",
        "name = input('Name')\n",
        "job_number = int(input('117'))\n",
        "repair_cost = 100\n",
        "discount = 15\n",
        "total = repair_cost - discount\n",
        "print(name,\", the total for\",{job_number},\"is\" ,total)\n",
        "print('Thank you for your business')"
      ],
      "metadata": {
        "colab": {
          "base_uri": "https://localhost:8080/"
        },
        "id": "Ae6OTiuoab0E",
        "outputId": "ee9dab9b-f64a-4a57-d09d-dceb94940ac2"
      },
      "execution_count": 36,
      "outputs": [
        {
          "output_type": "stream",
          "name": "stdout",
          "text": [
            "Welcome to Pete's Garage\n",
            "Namejh\n",
            "1177\n",
            "jh , the total for {7} is 85\n",
            "Thank you for your business\n"
          ]
        }
      ]
    },
    {
      "cell_type": "code",
      "source": [],
      "metadata": {
        "id": "BP4ZZGQUkntm"
      },
      "execution_count": null,
      "outputs": []
    },
    {
      "cell_type": "code",
      "source": [
        "# Online registration form\n",
        "print(\"Welcome to ABC Uni!\")\n",
        "print(\"Please enter the required information to begin\")\n",
        "s_f_n = input(\"Enter your name:\")\n",
        "phone = int(input(\"Enter your phone number:\"))\n",
        "email = input(\"Enter your email:\")\n",
        "crs = input(\"Choose your course:\")"
      ],
      "metadata": {
        "colab": {
          "base_uri": "https://localhost:8080/"
        },
        "id": "Dn40jYu5cH60",
        "outputId": "1d0daa14-898e-41b3-90ed-50e90e752e57"
      },
      "execution_count": 40,
      "outputs": [
        {
          "name": "stdout",
          "output_type": "stream",
          "text": [
            "Welcome to ABC Uni!\n",
            "Please enter the required information to begin\n",
            "Enter your name:Tuhin\n",
            "Enter your phone number:123\n",
            "Enter your email:122@gmail.com\n",
            "Choose your course:ENG102\n"
          ]
        }
      ]
    },
    {
      "cell_type": "code",
      "source": [
        "username = input(\"Enter username:\")\n",
        "password = input(\"Enter password:\")\n",
        "print(\"You have entered the following\")\n",
        "print(username.lower())\n",
        "print(password.upper())\n",
        "print(password == password.lower)"
      ],
      "metadata": {
        "colab": {
          "base_uri": "https://localhost:8080/"
        },
        "id": "TKZWRIZGleMt",
        "outputId": "15087c62-16b9-433a-a6be-6c0303af2f53"
      },
      "execution_count": 44,
      "outputs": [
        {
          "output_type": "stream",
          "name": "stdout",
          "text": [
            "Enter username:sadude\n",
            "Enter password:123\n",
            "You have entered the following\n",
            "sadude\n",
            "123\n",
            "False\n"
          ]
        }
      ]
    },
    {
      "cell_type": "code",
      "source": [],
      "metadata": {
        "id": "vAD86tnAl1k7"
      },
      "execution_count": null,
      "outputs": []
    },
    {
      "cell_type": "code",
      "source": [
        "grades = [\"A\", \"A+\", \"B\", \"C\", \"C+\", \"D\", \"F\"]\n",
        "for x in grades:\n",
        "  if x == \"A\" or x == \"B\":\n",
        "    x = True\n",
        "    if x == True:\n",
        "      print(\"Pass\")\n",
        "  else:\n",
        "   x = False\n",
        "   print(\"Fail\")"
      ],
      "metadata": {
        "colab": {
          "base_uri": "https://localhost:8080/"
        },
        "id": "P-H4jQn8mqbC",
        "outputId": "ae7e6c04-eda9-4b8a-bf68-5102b71d665b"
      },
      "execution_count": 53,
      "outputs": [
        {
          "output_type": "stream",
          "name": "stdout",
          "text": [
            "Pass\n",
            "Fail\n",
            "Pass\n",
            "Fail\n",
            "Fail\n",
            "Fail\n",
            "Fail\n"
          ]
        }
      ]
    },
    {
      "cell_type": "code",
      "source": [
        "initial_message = \"This is my initial message!\"\n",
        "message_length = len(initial_message)\n",
        "print(message_length)"
      ],
      "metadata": {
        "colab": {
          "base_uri": "https://localhost:8080/"
        },
        "id": "LQDETRGNnddg",
        "outputId": "ea416ea9-1a89-47cc-b60d-550747fc267b"
      },
      "execution_count": 57,
      "outputs": [
        {
          "output_type": "stream",
          "name": "stdout",
          "text": [
            "27\n"
          ]
        }
      ]
    },
    {
      "cell_type": "code",
      "source": [],
      "metadata": {
        "id": "kDixwpZ3ruC-"
      },
      "execution_count": null,
      "outputs": []
    }
  ]
}