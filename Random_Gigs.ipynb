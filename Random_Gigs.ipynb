{
  "nbformat": 4,
  "nbformat_minor": 0,
  "metadata": {
    "colab": {
      "provenance": [],
      "authorship_tag": "ABX9TyNNInAN1aNwEA3ReGRAEBMt",
      "include_colab_link": true
    },
    "kernelspec": {
      "name": "python3",
      "display_name": "Python 3"
    },
    "language_info": {
      "name": "python"
    }
  },
  "cells": [
    {
      "cell_type": "markdown",
      "metadata": {
        "id": "view-in-github",
        "colab_type": "text"
      },
      "source": [
        "<a href=\"https://colab.research.google.com/github/tuhinibrahim/random_codes/blob/master/Random_Gigs.ipynb\" target=\"_parent\"><img src=\"https://colab.research.google.com/assets/colab-badge.svg\" alt=\"Open In Colab\"/></a>"
      ]
    },
    {
      "cell_type": "code",
      "execution_count": 2,
      "metadata": {
        "colab": {
          "base_uri": "https://localhost:8080/"
        },
        "id": "iF0C5oSrLbVM",
        "outputId": "035760c7-20f2-46f3-9a5e-7be6b00db443"
      },
      "outputs": [
        {
          "output_type": "stream",
          "name": "stderr",
          "text": [
            "[nltk_data] Downloading package punkt to /root/nltk_data...\n",
            "[nltk_data]   Package punkt is already up-to-date!\n"
          ]
        },
        {
          "output_type": "stream",
          "name": "stdout",
          "text": [
            "Hello! I am Sad AI. Type 'quit' to exit.\n",
            "You: Hi\n",
            "ChatBot: Hello!\n",
            "You: What up?\n",
            "ChatBot: Sorry, I did not understand that.\n",
            "You: What's your name?\n",
            "ChatBot: Sorry, I did not understand that.\n",
            "You: Who created you?\n",
            "ChatBot: I was created by an advanced AI developer!\n",
            "You: quit\n",
            "ChatBot: Goodbye! Have a great day!\n"
          ]
        }
      ],
      "source": [
        "import random\n",
        "import re\n",
        "import nltk\n",
        "from nltk.chat.util import Chat, reflections\n",
        "\n",
        "# Ensure necessary NLTK modules are downloaded\n",
        "nltk.download('punkt')\n",
        "\n",
        "# Define chatbot responses with pattern matching\n",
        "pairs = [\n",
        "    (r'hi|hello|hey', ['Hello!', 'Hi there!', 'Hey!']),\n",
        "    (r'how are you', ['I am just a bot, but I am doing great!', 'Feeling chatty today!']),\n",
        "    (r'what is your name', ['I am ChatBot, your assistant!', 'Call me ChatBot!']),\n",
        "    (r'who created you', ['I was created by an advanced AI developer!', 'Someone who loves coding!']),\n",
        "    (r'(.*) your age', ['I am timeless!', 'Age is just a number, especially for bots.']),\n",
        "    (r'(.*) your favorite color', ['I like blue, just like the sky!', 'Black and white, like my code.']),\n",
        "    (r'(.*) help', ['Sure! How can I assist you today?', 'Tell me what you need help with!']),\n",
        "    (r'(.*)', ['Sorry, I did not understand that.', 'Could you rephrase that?'])\n",
        "]\n",
        "\n",
        "# Create the chatbot using NLTK's Chat class\n",
        "chatbot = Chat(pairs, reflections)\n",
        "\n",
        "def start_chat():\n",
        "    print(\"Hello! I am Sad AI. Type 'quit' to exit.\")\n",
        "    while True:\n",
        "        user_input = input(\"You: \").lower()\n",
        "        if user_input == 'quit':\n",
        "            print(\"ChatBot: Goodbye! Have a great day!\")\n",
        "            break\n",
        "        response = chatbot.respond(user_input)\n",
        "        print(\"ChatBot:\", response)\n",
        "\n",
        "# Run the chatbot\n",
        "if __name__ == \"__main__\":\n",
        "    start_chat()"
      ]
    },
    {
      "cell_type": "code",
      "source": [
        "import openai\n",
        "\n",
        "# OpenAI API Key (Replace with your own key)\n",
        "openai.api_key = \"your_openai_api_key_here\"\n",
        "\n",
        "def get_ai_response(user_input):\n",
        "    response = openai.ChatCompletion.create(\n",
        "        model=\"gpt-4\",\n",
        "        messages=[{\"role\": \"user\", \"content\": user_input}]\n",
        "    )\n",
        "    return response[\"choices\"][0][\"message\"][\"content\"]\n",
        "\n",
        "def start_chat():\n",
        "    print(\"Hello! I am AI ChatBot. Type 'quit' to exit.\")\n",
        "    while True:\n",
        "        user_input = input(\"You: \").lower()\n",
        "        if user_input == 'quit':\n",
        "            print(\"ChatBot: Goodbye! Have a great day!\")\n",
        "            break\n",
        "        response = get_ai_response(user_input)\n",
        "        print(\"ChatBot:\", response)\n",
        "\n",
        "if __name__ == \"__main__\":\n",
        "    start_chat()"
      ],
      "metadata": {
        "colab": {
          "base_uri": "https://localhost:8080/"
        },
        "id": "IjJeEE-AMLHz",
        "outputId": "a9dd0c21-1caa-4b08-9f5d-0a0ec96a4077"
      },
      "execution_count": 4,
      "outputs": [
        {
          "output_type": "stream",
          "name": "stdout",
          "text": [
            "Hello! I am AI ChatBot. Type 'quit' to exit.\n",
            "You: quit\n",
            "ChatBot: Goodbye! Have a great day!\n"
          ]
        }
      ]
    },
    {
      "cell_type": "code",
      "source": [
        "!pip install nltk openai"
      ],
      "metadata": {
        "colab": {
          "base_uri": "https://localhost:8080/"
        },
        "id": "Eilws4PwMbTX",
        "outputId": "ed227d8c-e30d-4830-9df2-67e448f38d8b"
      },
      "execution_count": 5,
      "outputs": [
        {
          "output_type": "stream",
          "name": "stdout",
          "text": [
            "Requirement already satisfied: nltk in /usr/local/lib/python3.11/dist-packages (3.9.1)\n",
            "Requirement already satisfied: openai in /usr/local/lib/python3.11/dist-packages (1.66.3)\n",
            "Requirement already satisfied: click in /usr/local/lib/python3.11/dist-packages (from nltk) (8.1.8)\n",
            "Requirement already satisfied: joblib in /usr/local/lib/python3.11/dist-packages (from nltk) (1.4.2)\n",
            "Requirement already satisfied: regex>=2021.8.3 in /usr/local/lib/python3.11/dist-packages (from nltk) (2024.11.6)\n",
            "Requirement already satisfied: tqdm in /usr/local/lib/python3.11/dist-packages (from nltk) (4.67.1)\n",
            "Requirement already satisfied: anyio<5,>=3.5.0 in /usr/local/lib/python3.11/dist-packages (from openai) (4.9.0)\n",
            "Requirement already satisfied: distro<2,>=1.7.0 in /usr/local/lib/python3.11/dist-packages (from openai) (1.9.0)\n",
            "Requirement already satisfied: httpx<1,>=0.23.0 in /usr/local/lib/python3.11/dist-packages (from openai) (0.28.1)\n",
            "Requirement already satisfied: jiter<1,>=0.4.0 in /usr/local/lib/python3.11/dist-packages (from openai) (0.9.0)\n",
            "Requirement already satisfied: pydantic<3,>=1.9.0 in /usr/local/lib/python3.11/dist-packages (from openai) (2.10.6)\n",
            "Requirement already satisfied: sniffio in /usr/local/lib/python3.11/dist-packages (from openai) (1.3.1)\n",
            "Requirement already satisfied: typing-extensions<5,>=4.11 in /usr/local/lib/python3.11/dist-packages (from openai) (4.12.2)\n",
            "Requirement already satisfied: idna>=2.8 in /usr/local/lib/python3.11/dist-packages (from anyio<5,>=3.5.0->openai) (3.10)\n",
            "Requirement already satisfied: certifi in /usr/local/lib/python3.11/dist-packages (from httpx<1,>=0.23.0->openai) (2025.1.31)\n",
            "Requirement already satisfied: httpcore==1.* in /usr/local/lib/python3.11/dist-packages (from httpx<1,>=0.23.0->openai) (1.0.7)\n",
            "Requirement already satisfied: h11<0.15,>=0.13 in /usr/local/lib/python3.11/dist-packages (from httpcore==1.*->httpx<1,>=0.23.0->openai) (0.14.0)\n",
            "Requirement already satisfied: annotated-types>=0.6.0 in /usr/local/lib/python3.11/dist-packages (from pydantic<3,>=1.9.0->openai) (0.7.0)\n",
            "Requirement already satisfied: pydantic-core==2.27.2 in /usr/local/lib/python3.11/dist-packages (from pydantic<3,>=1.9.0->openai) (2.27.2)\n"
          ]
        }
      ]
    },
    {
      "cell_type": "code",
      "source": [
        "!python chatbot.py"
      ],
      "metadata": {
        "colab": {
          "base_uri": "https://localhost:8080/"
        },
        "id": "qeIl5HxNMfw6",
        "outputId": "7a74afe2-9014-4daf-8c91-69737d91d46f"
      },
      "execution_count": 6,
      "outputs": [
        {
          "output_type": "stream",
          "name": "stdout",
          "text": [
            "python3: can't open file '/content/chatbot.py': [Errno 2] No such file or directory\n"
          ]
        }
      ]
    }
  ]
}