{
  "nbformat": 4,
  "nbformat_minor": 0,
  "metadata": {
    "colab": {
      "provenance": [],
      "authorship_tag": "ABX9TyOAg5FSIyjWCSOLjBglteF2",
      "include_colab_link": true
    },
    "kernelspec": {
      "name": "python3",
      "display_name": "Python 3"
    },
    "language_info": {
      "name": "python"
    }
  },
  "cells": [
    {
      "cell_type": "markdown",
      "metadata": {
        "id": "view-in-github",
        "colab_type": "text"
      },
      "source": [
        "<a href=\"https://colab.research.google.com/github/tuhinibrahim/random_codes/blob/master/File_Visualization.ipynb\" target=\"_parent\"><img src=\"https://colab.research.google.com/assets/colab-badge.svg\" alt=\"Open In Colab\"/></a>"
      ]
    },
    {
      "cell_type": "markdown",
      "source": [
        "Imorting files (.csv)"
      ],
      "metadata": {
        "id": "VzOiKh1uax1E"
      }
    },
    {
      "cell_type": "code",
      "execution_count": 2,
      "metadata": {
        "colab": {
          "base_uri": "https://localhost:8080/"
        },
        "id": "BwQZ3qhFaKCd",
        "outputId": "0645daf0-cfd2-4850-86c2-17ba3b942a69"
      },
      "outputs": [
        {
          "output_type": "stream",
          "name": "stdout",
          "text": [
            "Requirement already satisfied: pandas in /usr/local/lib/python3.11/dist-packages (2.2.2)\n",
            "Requirement already satisfied: numpy>=1.23.2 in /usr/local/lib/python3.11/dist-packages (from pandas) (2.0.2)\n",
            "Requirement already satisfied: python-dateutil>=2.8.2 in /usr/local/lib/python3.11/dist-packages (from pandas) (2.8.2)\n",
            "Requirement already satisfied: pytz>=2020.1 in /usr/local/lib/python3.11/dist-packages (from pandas) (2025.1)\n",
            "Requirement already satisfied: tzdata>=2022.7 in /usr/local/lib/python3.11/dist-packages (from pandas) (2025.1)\n",
            "Requirement already satisfied: six>=1.5 in /usr/local/lib/python3.11/dist-packages (from python-dateutil>=2.8.2->pandas) (1.17.0)\n"
          ]
        }
      ],
      "source": [
        "!pip install pandas"
      ]
    },
    {
      "cell_type": "code",
      "source": [
        "# Pandas library import\n",
        "import pandas as pd\n",
        "import numpy as np"
      ],
      "metadata": {
        "id": "n3yIFbx0a9xa"
      },
      "execution_count": 45,
      "outputs": []
    },
    {
      "cell_type": "code",
      "source": [
        "# Read .csv file\n",
        "file = '/content/ar draft.csv'\n",
        "data = pd.read_csv(file)\n",
        "print(data)"
      ],
      "metadata": {
        "colab": {
          "base_uri": "https://localhost:8080/"
        },
        "id": "yT49E9S8bPH2",
        "outputId": "b44726f5-4a79-4f1e-a370-47f3f954ce0f"
      },
      "execution_count": 46,
      "outputs": [
        {
          "output_type": "stream",
          "name": "stdout",
          "text": [
            "      SL    YEAR BRANCH ADVANCE (TK In Lac)  SLAB DURATION  Unnamed: 5  \\\n",
            "0    NaN     NaN    NaN                 NaN          START         END   \n",
            "1    1.0  2024.0    FLB          500,000.00     01.03.2024  28.02.2027   \n",
            "2    2.0  2024.0    JSK        1,500,000.00     01.01.2024  31.12.2028   \n",
            "3    3.0  2024.0    NOP        1,337,500.00     01.11.2023  31.10.2026   \n",
            "4    5.0  2014.0    TKN        1,000,000.00     01.06.2019  31.05.2024   \n",
            "..   ...     ...    ...                 ...            ...         ...   \n",
            "82  84.0  2013.0    DSP        2,500,000.00     01.04.2018          --   \n",
            "83  85.0  2014.0    MGR        3,217,000.00     01.04.2024          --   \n",
            "84  86.0  2013.0    KLN        2,500,000.00     01.01.2013  31.12.2021   \n",
            "85  87.0  2024.0    SKR        1,000,000.00     01.08.2024  31.07.2029   \n",
            "86  88.0  2023.0    LXR          500,000.00     01.08.2023  31.07.2028   \n",
            "\n",
            "   MONTHLY RENT ADVANCE ADJUST  TDS (5%) NET MONTHLY PAYABLE  \n",
            "0           NaN            NaN       NaN                 NaN  \n",
            "1     25,500.00       4,630.00  1,275.00           19,595.00  \n",
            "2    120,000.00      25,000.00  6,000.00           89,000.00  \n",
            "3     72,000.00      18,576.00  3,600.00           49,824.00  \n",
            "4     27,500.00       8,333.00  1,375.00           17,792.00  \n",
            "..          ...            ...       ...                 ...  \n",
            "82          NaN           0.00      0.00          110,438.00  \n",
            "83          NaN            NaN      0.00                0.00  \n",
            "84   120,000.00      23,148.00  6,000.00           90,852.00  \n",
            "85    42,106.00       8,333.00  2,105.30           31,667.70  \n",
            "86    86,040.00       8,500.00  4,302.00           73,238.00  \n",
            "\n",
            "[87 rows x 10 columns]\n"
          ]
        }
      ]
    },
    {
      "cell_type": "markdown",
      "source": [
        "Modification (.csv) file"
      ],
      "metadata": {
        "id": "puSpVG6HdCBP"
      }
    },
    {
      "cell_type": "code",
      "source": [
        "# Slicing column\n",
        "columns_to_drop = ['SL', 'ADVANCE (TK In Lac)', 'TDS (5%)']\n",
        "data = data.drop(columns=columns_to_drop)\n",
        "\n",
        "print(data)"
      ],
      "metadata": {
        "colab": {
          "base_uri": "https://localhost:8080/"
        },
        "id": "He7iaLhGbuM4",
        "outputId": "48cdc311-906a-40e6-b20a-70a8188c88f2"
      },
      "execution_count": 47,
      "outputs": [
        {
          "output_type": "stream",
          "name": "stdout",
          "text": [
            "      YEAR BRANCH  SLAB DURATION  Unnamed: 5 MONTHLY RENT ADVANCE ADJUST  \\\n",
            "0      NaN    NaN          START         END          NaN            NaN   \n",
            "1   2024.0    FLB     01.03.2024  28.02.2027    25,500.00       4,630.00   \n",
            "2   2024.0    JSK     01.01.2024  31.12.2028   120,000.00      25,000.00   \n",
            "3   2024.0    NOP     01.11.2023  31.10.2026    72,000.00      18,576.00   \n",
            "4   2014.0    TKN     01.06.2019  31.05.2024    27,500.00       8,333.00   \n",
            "..     ...    ...            ...         ...          ...            ...   \n",
            "82  2013.0    DSP     01.04.2018          --          NaN           0.00   \n",
            "83  2014.0    MGR     01.04.2024          --          NaN            NaN   \n",
            "84  2013.0    KLN     01.01.2013  31.12.2021   120,000.00      23,148.00   \n",
            "85  2024.0    SKR     01.08.2024  31.07.2029    42,106.00       8,333.00   \n",
            "86  2023.0    LXR     01.08.2023  31.07.2028    86,040.00       8,500.00   \n",
            "\n",
            "   NET MONTHLY PAYABLE  \n",
            "0                  NaN  \n",
            "1            19,595.00  \n",
            "2            89,000.00  \n",
            "3            49,824.00  \n",
            "4            17,792.00  \n",
            "..                 ...  \n",
            "82          110,438.00  \n",
            "83                0.00  \n",
            "84           90,852.00  \n",
            "85           31,667.70  \n",
            "86           73,238.00  \n",
            "\n",
            "[87 rows x 7 columns]\n"
          ]
        }
      ]
    },
    {
      "cell_type": "markdown",
      "source": [
        "Mathematical modification for different visualization"
      ],
      "metadata": {
        "id": "DWRSpOYFid_S"
      }
    },
    {
      "cell_type": "code",
      "source": [
        "!pip install --upgrade --quiet pygal"
      ],
      "metadata": {
        "colab": {
          "base_uri": "https://localhost:8080/"
        },
        "id": "UqKwh7fpeic3",
        "outputId": "9be6ac49-c4dd-4259-aa1e-68402f60fee2"
      },
      "execution_count": 32,
      "outputs": [
        {
          "output_type": "stream",
          "name": "stdout",
          "text": [
            "\u001b[?25l   \u001b[90m━━━━━━━━━━━━━━━━━━━━━━━━━━━━━━━━━━━━━━━━\u001b[0m \u001b[32m0.0/129.5 kB\u001b[0m \u001b[31m?\u001b[0m eta \u001b[36m-:--:--\u001b[0m\r\u001b[2K   \u001b[90m━━━━━━━━━━━━━━━━━━━━━━━━━━━━━━━━━━━━━━━━\u001b[0m \u001b[32m129.5/129.5 kB\u001b[0m \u001b[31m3.6 MB/s\u001b[0m eta \u001b[36m0:00:00\u001b[0m\n",
            "\u001b[?25h"
          ]
        }
      ]
    },
    {
      "cell_type": "code",
      "source": [
        "import pygal"
      ],
      "metadata": {
        "id": "_w_yuBCiit3T"
      },
      "execution_count": 34,
      "outputs": []
    },
    {
      "cell_type": "code",
      "source": [
        "!pip install cairosvg"
      ],
      "metadata": {
        "colab": {
          "base_uri": "https://localhost:8080/"
        },
        "id": "DjkOTovQlEib",
        "outputId": "0a796b52-0552-4412-c8ac-404803bd0524"
      },
      "execution_count": 49,
      "outputs": [
        {
          "output_type": "stream",
          "name": "stdout",
          "text": [
            "Requirement already satisfied: cairosvg in /usr/local/lib/python3.11/dist-packages (2.7.1)\n",
            "Requirement already satisfied: cairocffi in /usr/local/lib/python3.11/dist-packages (from cairosvg) (1.7.1)\n",
            "Requirement already satisfied: cssselect2 in /usr/local/lib/python3.11/dist-packages (from cairosvg) (0.8.0)\n",
            "Requirement already satisfied: defusedxml in /usr/local/lib/python3.11/dist-packages (from cairosvg) (0.7.1)\n",
            "Requirement already satisfied: pillow in /usr/local/lib/python3.11/dist-packages (from cairosvg) (11.1.0)\n",
            "Requirement already satisfied: tinycss2 in /usr/local/lib/python3.11/dist-packages (from cairosvg) (1.4.0)\n",
            "Requirement already satisfied: cffi>=1.1.0 in /usr/local/lib/python3.11/dist-packages (from cairocffi->cairosvg) (1.17.1)\n",
            "Requirement already satisfied: webencodings in /usr/local/lib/python3.11/dist-packages (from cssselect2->cairosvg) (0.5.1)\n",
            "Requirement already satisfied: pycparser in /usr/local/lib/python3.11/dist-packages (from cffi>=1.1.0->cairocffi->cairosvg) (2.22)\n"
          ]
        }
      ]
    },
    {
      "cell_type": "code",
      "source": [
        "repos = [\n",
        "    {\n",
        "        'value': 20506,\n",
        "        'color': '#3333CC',\n",
        "        'xlink': 'http://djangoproject.com/',\n",
        "    },\n",
        "    20054,\n",
        "    12607,\n",
        "    11827,\n",
        "    ]\n",
        "\n",
        "chart = pygal.Bar()\n",
        "chart.force_uri_protocol = 'http'\n",
        "branch_names = data['BRANCH'].dropna().tolist()\n",
        "\n",
        "# print(branch_names)\n",
        "\n",
        "# Set the x-axis labels\n",
        "# chart.x_labels = branch_names\n",
        "chart.x_labels = [str(branch) for branch in branch_names]\n",
        "print(chart.x_labels)\n",
        "\n",
        "chart.y_title = 'NET MONTHLY PAYABLE'\n",
        "\n",
        "data_1 = pd.DataFrame({\n",
        "    'BRANCH': ['Branch1', 'Branch2', 'Branch3', 'Branch4', 'Branch5'],\n",
        "    'NET MONTHLY PAYABLE': [19595.00, 89000.00, 49824.00, 17792.00, 110438.00],\n",
        "})\n",
        "\n",
        "# Convert 'NET MONTHLY PAYABLE' to integers and drop NaN values\n",
        "NET_MONTHLY_PAYABLE = data_1['NET MONTHLY PAYABLE'].dropna().astype(int).tolist()\n",
        "\n",
        "# MONTHLY_PAYABLE = data['NET MONTHLY PAYABLE'].dropna().tolist()\n",
        "chart.add('Python Repos', NET_MONTHLY_PAYABLE)"
      ],
      "metadata": {
        "colab": {
          "base_uri": "https://localhost:8080/",
          "height": 902
        },
        "id": "eTfwIavEi5vU",
        "outputId": "6b27a0d0-779e-4a59-83c8-5dbe8853b243"
      },
      "execution_count": 66,
      "outputs": [
        {
          "output_type": "stream",
          "name": "stdout",
          "text": [
            "['FLB', 'JSK', 'NOP', 'TKN', 'RPR', 'GBD', 'BGR', 'BRP', 'JHT', 'SDP', 'NOG', 'NTR', 'PBN', 'RNM', 'RLP', 'RSB', 'SSR', 'NRL', 'MCR', 'ISD', 'BGR', 'RSB', 'MYS', 'SSR', 'CDG', 'NOG', 'CMA', 'MHP', 'MCR', 'JND', 'JLK', 'MAZ', 'HGJ', 'BHL', 'MKJ', 'JSR', 'PBN', 'BRP', 'GBD', 'SDP', 'GOP', 'DMP', 'DPB', 'CHR', 'NSD', 'DJA', 'DZT', 'SVR', 'DAM', 'TKN', 'DMJ', 'DDP', 'SRP', 'RBR', 'JDP', 'JPR', 'JSK', 'SKN', 'DAB', 'JPB', 'KBM', 'RPL', 'MDP', 'DUN', 'NTR', 'DAS', 'DBR', 'CRJ', 'BBA', 'CPR', 'CGM', 'JTR', 'MSJ', 'TNL', 'DRR', 'RPR', 'JHT', 'RNM', 'NOP', 'PTL', 'KTA', 'DSP', 'MGR', 'KLN', 'SKR', 'LXR']\n"
          ]
        },
        {
          "output_type": "execute_result",
          "data": {
            "text/plain": [
              "<pygal.graph.bar.Bar at 0x7e9ca00b5c50>"
            ],
            "image/svg+xml": "<svg xmlns=\"http://www.w3.org/2000/svg\" xmlns:xlink=\"http://www.w3.org/1999/xlink\" id=\"chart-e0405f4c-aaa4-480d-87e8-1f66ffe9e69e\" class=\"pygal-chart\" viewBox=\"0 0 800 600\"><!--Generated with pygal 3.0.5 (lxml) ©Kozea 2012-2016 on 2025-03-22--><!--http://pygal.org--><!--http://github.com/Kozea/pygal--><defs><style type=\"text/css\">#chart-e0405f4c-aaa4-480d-87e8-1f66ffe9e69e{-webkit-user-select:none;-webkit-font-smoothing:antialiased;font-family:Consolas,\"Liberation Mono\",Menlo,Courier,monospace}#chart-e0405f4c-aaa4-480d-87e8-1f66ffe9e69e .title{font-family:Consolas,\"Liberation Mono\",Menlo,Courier,monospace;font-size:16px}#chart-e0405f4c-aaa4-480d-87e8-1f66ffe9e69e .legends .legend text{font-family:Consolas,\"Liberation Mono\",Menlo,Courier,monospace;font-size:14px}#chart-e0405f4c-aaa4-480d-87e8-1f66ffe9e69e .axis text{font-family:Consolas,\"Liberation Mono\",Menlo,Courier,monospace;font-size:10px}#chart-e0405f4c-aaa4-480d-87e8-1f66ffe9e69e .axis text.major{font-family:Consolas,\"Liberation Mono\",Menlo,Courier,monospace;font-size:10px}#chart-e0405f4c-aaa4-480d-87e8-1f66ffe9e69e .text-overlay text.value{font-family:Consolas,\"Liberation Mono\",Menlo,Courier,monospace;font-size:16px}#chart-e0405f4c-aaa4-480d-87e8-1f66ffe9e69e .text-overlay text.label{font-family:Consolas,\"Liberation Mono\",Menlo,Courier,monospace;font-size:10px}#chart-e0405f4c-aaa4-480d-87e8-1f66ffe9e69e .tooltip{font-family:Consolas,\"Liberation Mono\",Menlo,Courier,monospace;font-size:14px}#chart-e0405f4c-aaa4-480d-87e8-1f66ffe9e69e text.no_data{font-family:Consolas,\"Liberation Mono\",Menlo,Courier,monospace;font-size:64px}\n#chart-e0405f4c-aaa4-480d-87e8-1f66ffe9e69e{background-color:rgba(249,249,249,1)}#chart-e0405f4c-aaa4-480d-87e8-1f66ffe9e69e path,#chart-e0405f4c-aaa4-480d-87e8-1f66ffe9e69e line,#chart-e0405f4c-aaa4-480d-87e8-1f66ffe9e69e rect,#chart-e0405f4c-aaa4-480d-87e8-1f66ffe9e69e circle{-webkit-transition:150ms;-moz-transition:150ms;transition:150ms}#chart-e0405f4c-aaa4-480d-87e8-1f66ffe9e69e .graph &gt; .background{fill:rgba(249,249,249,1)}#chart-e0405f4c-aaa4-480d-87e8-1f66ffe9e69e .plot &gt; .background{fill:rgba(255,255,255,1)}#chart-e0405f4c-aaa4-480d-87e8-1f66ffe9e69e .graph{fill:rgba(0,0,0,.87)}#chart-e0405f4c-aaa4-480d-87e8-1f66ffe9e69e text.no_data{fill:rgba(0,0,0,1)}#chart-e0405f4c-aaa4-480d-87e8-1f66ffe9e69e .title{fill:rgba(0,0,0,1)}#chart-e0405f4c-aaa4-480d-87e8-1f66ffe9e69e .legends .legend text{fill:rgba(0,0,0,.87)}#chart-e0405f4c-aaa4-480d-87e8-1f66ffe9e69e .legends .legend:hover text{fill:rgba(0,0,0,1)}#chart-e0405f4c-aaa4-480d-87e8-1f66ffe9e69e .axis .line{stroke:rgba(0,0,0,1)}#chart-e0405f4c-aaa4-480d-87e8-1f66ffe9e69e .axis .guide.line{stroke:rgba(0,0,0,.54)}#chart-e0405f4c-aaa4-480d-87e8-1f66ffe9e69e .axis .major.line{stroke:rgba(0,0,0,.87)}#chart-e0405f4c-aaa4-480d-87e8-1f66ffe9e69e .axis text.major{fill:rgba(0,0,0,1)}#chart-e0405f4c-aaa4-480d-87e8-1f66ffe9e69e .axis.y .guides:hover .guide.line,#chart-e0405f4c-aaa4-480d-87e8-1f66ffe9e69e .line-graph .axis.x .guides:hover .guide.line,#chart-e0405f4c-aaa4-480d-87e8-1f66ffe9e69e .stackedline-graph .axis.x .guides:hover .guide.line,#chart-e0405f4c-aaa4-480d-87e8-1f66ffe9e69e .xy-graph .axis.x .guides:hover .guide.line{stroke:rgba(0,0,0,1)}#chart-e0405f4c-aaa4-480d-87e8-1f66ffe9e69e .axis .guides:hover text{fill:rgba(0,0,0,1)}#chart-e0405f4c-aaa4-480d-87e8-1f66ffe9e69e .reactive{fill-opacity:.7;stroke-opacity:.8;stroke-width:1}#chart-e0405f4c-aaa4-480d-87e8-1f66ffe9e69e .ci{stroke:rgba(0,0,0,.87)}#chart-e0405f4c-aaa4-480d-87e8-1f66ffe9e69e .reactive.active,#chart-e0405f4c-aaa4-480d-87e8-1f66ffe9e69e .active .reactive{fill-opacity:.8;stroke-opacity:.9;stroke-width:4}#chart-e0405f4c-aaa4-480d-87e8-1f66ffe9e69e .ci .reactive.active{stroke-width:1.5}#chart-e0405f4c-aaa4-480d-87e8-1f66ffe9e69e .series text{fill:rgba(0,0,0,1)}#chart-e0405f4c-aaa4-480d-87e8-1f66ffe9e69e .tooltip rect{fill:rgba(255,255,255,1);stroke:rgba(0,0,0,1);-webkit-transition:opacity 150ms;-moz-transition:opacity 150ms;transition:opacity 150ms}#chart-e0405f4c-aaa4-480d-87e8-1f66ffe9e69e .tooltip .label{fill:rgba(0,0,0,.87)}#chart-e0405f4c-aaa4-480d-87e8-1f66ffe9e69e .tooltip .label{fill:rgba(0,0,0,.87)}#chart-e0405f4c-aaa4-480d-87e8-1f66ffe9e69e .tooltip .legend{font-size:.8em;fill:rgba(0,0,0,.54)}#chart-e0405f4c-aaa4-480d-87e8-1f66ffe9e69e .tooltip .x_label{font-size:.6em;fill:rgba(0,0,0,1)}#chart-e0405f4c-aaa4-480d-87e8-1f66ffe9e69e .tooltip .xlink{font-size:.5em;text-decoration:underline}#chart-e0405f4c-aaa4-480d-87e8-1f66ffe9e69e .tooltip .value{font-size:1.5em}#chart-e0405f4c-aaa4-480d-87e8-1f66ffe9e69e .bound{font-size:.5em}#chart-e0405f4c-aaa4-480d-87e8-1f66ffe9e69e .max-value{font-size:.75em;fill:rgba(0,0,0,.54)}#chart-e0405f4c-aaa4-480d-87e8-1f66ffe9e69e .map-element{fill:rgba(255,255,255,1);stroke:rgba(0,0,0,.54) !important}#chart-e0405f4c-aaa4-480d-87e8-1f66ffe9e69e .map-element .reactive{fill-opacity:inherit;stroke-opacity:inherit}#chart-e0405f4c-aaa4-480d-87e8-1f66ffe9e69e .color-0,#chart-e0405f4c-aaa4-480d-87e8-1f66ffe9e69e .color-0 a:visited{stroke:#F44336;fill:#F44336}#chart-e0405f4c-aaa4-480d-87e8-1f66ffe9e69e .text-overlay .color-0 text{fill:black}\n#chart-e0405f4c-aaa4-480d-87e8-1f66ffe9e69e text.no_data{text-anchor:middle}#chart-e0405f4c-aaa4-480d-87e8-1f66ffe9e69e .guide.line{fill:none}#chart-e0405f4c-aaa4-480d-87e8-1f66ffe9e69e .centered{text-anchor:middle}#chart-e0405f4c-aaa4-480d-87e8-1f66ffe9e69e .title{text-anchor:middle}#chart-e0405f4c-aaa4-480d-87e8-1f66ffe9e69e .legends .legend text{fill-opacity:1}#chart-e0405f4c-aaa4-480d-87e8-1f66ffe9e69e .axis.x text{text-anchor:middle}#chart-e0405f4c-aaa4-480d-87e8-1f66ffe9e69e .axis.x:not(.web) text[transform]{text-anchor:start}#chart-e0405f4c-aaa4-480d-87e8-1f66ffe9e69e .axis.x:not(.web) text[transform].backwards{text-anchor:end}#chart-e0405f4c-aaa4-480d-87e8-1f66ffe9e69e .axis.y text{text-anchor:end}#chart-e0405f4c-aaa4-480d-87e8-1f66ffe9e69e .axis.y text[transform].backwards{text-anchor:start}#chart-e0405f4c-aaa4-480d-87e8-1f66ffe9e69e .axis.y2 text{text-anchor:start}#chart-e0405f4c-aaa4-480d-87e8-1f66ffe9e69e .axis.y2 text[transform].backwards{text-anchor:end}#chart-e0405f4c-aaa4-480d-87e8-1f66ffe9e69e .axis .guide.line{stroke-dasharray:4,4;stroke:black}#chart-e0405f4c-aaa4-480d-87e8-1f66ffe9e69e .axis .major.guide.line{stroke-dasharray:6,6;stroke:black}#chart-e0405f4c-aaa4-480d-87e8-1f66ffe9e69e .horizontal .axis.y .guide.line,#chart-e0405f4c-aaa4-480d-87e8-1f66ffe9e69e .horizontal .axis.y2 .guide.line,#chart-e0405f4c-aaa4-480d-87e8-1f66ffe9e69e .vertical .axis.x .guide.line{opacity:0}#chart-e0405f4c-aaa4-480d-87e8-1f66ffe9e69e .horizontal .axis.always_show .guide.line,#chart-e0405f4c-aaa4-480d-87e8-1f66ffe9e69e .vertical .axis.always_show .guide.line{opacity:1 !important}#chart-e0405f4c-aaa4-480d-87e8-1f66ffe9e69e .axis.y .guides:hover .guide.line,#chart-e0405f4c-aaa4-480d-87e8-1f66ffe9e69e .axis.y2 .guides:hover .guide.line,#chart-e0405f4c-aaa4-480d-87e8-1f66ffe9e69e .axis.x .guides:hover .guide.line{opacity:1}#chart-e0405f4c-aaa4-480d-87e8-1f66ffe9e69e .axis .guides:hover text{opacity:1}#chart-e0405f4c-aaa4-480d-87e8-1f66ffe9e69e .nofill{fill:none}#chart-e0405f4c-aaa4-480d-87e8-1f66ffe9e69e .subtle-fill{fill-opacity:.2}#chart-e0405f4c-aaa4-480d-87e8-1f66ffe9e69e .dot{stroke-width:1px;fill-opacity:1;stroke-opacity:1}#chart-e0405f4c-aaa4-480d-87e8-1f66ffe9e69e .dot.active{stroke-width:5px}#chart-e0405f4c-aaa4-480d-87e8-1f66ffe9e69e .dot.negative{fill:transparent}#chart-e0405f4c-aaa4-480d-87e8-1f66ffe9e69e text,#chart-e0405f4c-aaa4-480d-87e8-1f66ffe9e69e tspan{stroke:none !important}#chart-e0405f4c-aaa4-480d-87e8-1f66ffe9e69e .series text.active{opacity:1}#chart-e0405f4c-aaa4-480d-87e8-1f66ffe9e69e .tooltip rect{fill-opacity:.95;stroke-width:.5}#chart-e0405f4c-aaa4-480d-87e8-1f66ffe9e69e .tooltip text{fill-opacity:1}#chart-e0405f4c-aaa4-480d-87e8-1f66ffe9e69e .showable{visibility:hidden}#chart-e0405f4c-aaa4-480d-87e8-1f66ffe9e69e .showable.shown{visibility:visible}#chart-e0405f4c-aaa4-480d-87e8-1f66ffe9e69e .gauge-background{fill:rgba(229,229,229,1);stroke:none}#chart-e0405f4c-aaa4-480d-87e8-1f66ffe9e69e .bg-lines{stroke:rgba(249,249,249,1);stroke-width:2px}</style><script type=\"text/javascript\">window.pygal = window.pygal || {};window.pygal.config = window.pygal.config || {};window.pygal.config['e0405f4c-aaa4-480d-87e8-1f66ffe9e69e'] = {\"allow_interruptions\": false, \"box_mode\": \"extremes\", \"classes\": [\"pygal-chart\"], \"css\": [\"file://style.css\", \"file://graph.css\"], \"defs\": [], \"disable_xml_declaration\": true, \"dots_size\": 2.5, \"dynamic_print_values\": false, \"explicit_size\": false, \"fill\": false, \"force_uri_protocol\": \"http\", \"formatter\": null, \"half_pie\": false, \"height\": 600, \"include_x_axis\": false, \"inner_radius\": 0, \"interpolate\": null, \"interpolation_parameters\": {}, \"interpolation_precision\": 250, \"inverse_y_axis\": false, \"js\": [\"//kozea.github.io/pygal.js/2.0.x/pygal-tooltips.min.js\"], \"legend_at_bottom\": false, \"legend_at_bottom_columns\": null, \"legend_box_size\": 12, \"logarithmic\": false, \"margin\": 20, \"margin_bottom\": null, \"margin_left\": null, \"margin_right\": null, \"margin_top\": null, \"max_scale\": 16, \"min_scale\": 4, \"missing_value_fill_truncation\": \"x\", \"no_data_text\": \"No data\", \"no_prefix\": false, \"order_min\": null, \"pretty_print\": false, \"print_labels\": false, \"print_values\": false, \"print_values_position\": \"center\", \"print_zeroes\": true, \"range\": null, \"rounded_bars\": null, \"secondary_range\": null, \"show_dots\": true, \"show_legend\": true, \"show_minor_x_labels\": true, \"show_minor_y_labels\": true, \"show_only_major_dots\": false, \"show_x_guides\": false, \"show_x_labels\": true, \"show_y_guides\": true, \"show_y_labels\": true, \"spacing\": 10, \"stack_from_top\": false, \"strict\": false, \"stroke\": true, \"stroke_style\": null, \"style\": {\"background\": \"rgba(249, 249, 249, 1)\", \"ci_colors\": [], \"colors\": [\"#F44336\", \"#3F51B5\", \"#009688\", \"#FFC107\", \"#FF5722\", \"#9C27B0\", \"#03A9F4\", \"#8BC34A\", \"#FF9800\", \"#E91E63\", \"#2196F3\", \"#4CAF50\", \"#FFEB3B\", \"#673AB7\", \"#00BCD4\", \"#CDDC39\", \"#9E9E9E\", \"#607D8B\"], \"dot_opacity\": \"1\", \"font_family\": \"Consolas, \\\"Liberation Mono\\\", Menlo, Courier, monospace\", \"foreground\": \"rgba(0, 0, 0, .87)\", \"foreground_strong\": \"rgba(0, 0, 0, 1)\", \"foreground_subtle\": \"rgba(0, 0, 0, .54)\", \"guide_stroke_color\": \"black\", \"guide_stroke_dasharray\": \"4,4\", \"label_font_family\": \"Consolas, \\\"Liberation Mono\\\", Menlo, Courier, monospace\", \"label_font_size\": 10, \"legend_font_family\": \"Consolas, \\\"Liberation Mono\\\", Menlo, Courier, monospace\", \"legend_font_size\": 14, \"major_guide_stroke_color\": \"black\", \"major_guide_stroke_dasharray\": \"6,6\", \"major_label_font_family\": \"Consolas, \\\"Liberation Mono\\\", Menlo, Courier, monospace\", \"major_label_font_size\": 10, \"no_data_font_family\": \"Consolas, \\\"Liberation Mono\\\", Menlo, Courier, monospace\", \"no_data_font_size\": 64, \"opacity\": \".7\", \"opacity_hover\": \".8\", \"plot_background\": \"rgba(255, 255, 255, 1)\", \"stroke_opacity\": \".8\", \"stroke_opacity_hover\": \".9\", \"stroke_width\": \"1\", \"stroke_width_hover\": \"4\", \"title_font_family\": \"Consolas, \\\"Liberation Mono\\\", Menlo, Courier, monospace\", \"title_font_size\": 16, \"tooltip_font_family\": \"Consolas, \\\"Liberation Mono\\\", Menlo, Courier, monospace\", \"tooltip_font_size\": 14, \"transition\": \"150ms\", \"value_background\": \"rgba(229, 229, 229, 1)\", \"value_colors\": [], \"value_font_family\": \"Consolas, \\\"Liberation Mono\\\", Menlo, Courier, monospace\", \"value_font_size\": 16, \"value_label_font_family\": \"Consolas, \\\"Liberation Mono\\\", Menlo, Courier, monospace\", \"value_label_font_size\": 10}, \"title\": null, \"tooltip_border_radius\": 0, \"tooltip_fancy_mode\": true, \"truncate_label\": null, \"truncate_legend\": null, \"width\": 800, \"x_label_rotation\": 0, \"x_labels\": [\"FLB\", \"JSK\", \"NOP\", \"TKN\", \"RPR\", \"GBD\", \"BGR\", \"BRP\", \"JHT\", \"SDP\", \"NOG\", \"NTR\", \"PBN\", \"RNM\", \"RLP\", \"RSB\", \"SSR\", \"NRL\", \"MCR\", \"ISD\", \"BGR\", \"RSB\", \"MYS\", \"SSR\", \"CDG\", \"NOG\", \"CMA\", \"MHP\", \"MCR\", \"JND\", \"JLK\", \"MAZ\", \"HGJ\", \"BHL\", \"MKJ\", \"JSR\", \"PBN\", \"BRP\", \"GBD\", \"SDP\", \"GOP\", \"DMP\", \"DPB\", \"CHR\", \"NSD\", \"DJA\", \"DZT\", \"SVR\", \"DAM\", \"TKN\", \"DMJ\", \"DDP\", \"SRP\", \"RBR\", \"JDP\", \"JPR\", \"JSK\", \"SKN\", \"DAB\", \"JPB\", \"KBM\", \"RPL\", \"MDP\", \"DUN\", \"NTR\", \"DAS\", \"DBR\", \"CRJ\", \"BBA\", \"CPR\", \"CGM\", \"JTR\", \"MSJ\", \"TNL\", \"DRR\", \"RPR\", \"JHT\", \"RNM\", \"NOP\", \"PTL\", \"KTA\", \"DSP\", \"MGR\", \"KLN\", \"SKR\", \"LXR\"], \"x_labels_major\": null, \"x_labels_major_count\": null, \"x_labels_major_every\": null, \"x_title\": null, \"xrange\": null, \"y_label_rotation\": 0, \"y_labels\": null, \"y_labels_major\": null, \"y_labels_major_count\": null, \"y_labels_major_every\": null, \"y_title\": \"NET MONTHLY PAYABLE\", \"zero\": 0, \"legends\": [\"Python Repos\"]}</script><script type=\"text/javascript\" xlink:href=\"http://kozea.github.io/pygal.js/2.0.x/pygal-tooltips.min.js\"/></defs><title>Pygal</title><g class=\"graph bar-graph vertical\"><rect x=\"0\" y=\"0\" width=\"800\" height=\"600\" class=\"background\"/><g transform=\"translate(214, 20)\" class=\"plot\"><rect x=\"0\" y=\"0\" width=\"565.2\" height=\"540\" class=\"background\"/><g class=\"axis y always_show\"><g class=\"guides\"><path d=\"M0.000000 529.615385 h565.200000\" class=\"axis major line\"/><text x=\"-5\" y=\"533.1153846153846\" class=\"major\">0</text><title>0</title></g><g class=\"guides\"><path d=\"M0.000000 482.599795 h565.200000\" class=\"guide line\"/><text x=\"-5\" y=\"486.0997949423763\" class=\"\">10000</text><title>10000</title></g><g class=\"guides\"><path d=\"M0.000000 435.584205 h565.200000\" class=\"guide line\"/><text x=\"-5\" y=\"439.084205269368\" class=\"\">20000</text><title>20000</title></g><g class=\"guides\"><path d=\"M0.000000 388.568616 h565.200000\" class=\"guide line\"/><text x=\"-5\" y=\"392.0686155963597\" class=\"\">30000</text><title>30000</title></g><g class=\"guides\"><path d=\"M0.000000 341.553026 h565.200000\" class=\"guide line\"/><text x=\"-5\" y=\"345.05302592335136\" class=\"\">40000</text><title>40000</title></g><g class=\"guides\"><path d=\"M0.000000 294.537436 h565.200000\" class=\"major guide line\"/><text x=\"-5\" y=\"298.03743625034303\" class=\"major\">50000</text><title>50000</title></g><g class=\"guides\"><path d=\"M0.000000 247.521847 h565.200000\" class=\"guide line\"/><text x=\"-5\" y=\"251.0218465773347\" class=\"\">60000</text><title>60000</title></g><g class=\"guides\"><path d=\"M0.000000 200.506257 h565.200000\" class=\"guide line\"/><text x=\"-5\" y=\"204.0062569043264\" class=\"\">70000</text><title>70000</title></g><g class=\"guides\"><path d=\"M0.000000 153.490667 h565.200000\" class=\"guide line\"/><text x=\"-5\" y=\"156.99066723131807\" class=\"\">80000</text><title>80000</title></g><g class=\"guides\"><path d=\"M0.000000 106.475078 h565.200000\" class=\"guide line\"/><text x=\"-5\" y=\"109.97507755830975\" class=\"\">90000</text><title>90000</title></g><g class=\"guides\"><path d=\"M0.000000 59.459488 h565.200000\" class=\"major guide line\"/><text x=\"-5\" y=\"62.95948788530143\" class=\"major\">100000</text><title>100000</title></g><g class=\"guides\"><path d=\"M0.000000 12.443898 h565.200000\" class=\"guide line\"/><text x=\"-5\" y=\"15.943898212293107\" class=\"\">110000</text><title>110000</title></g></g><g class=\"axis x\"><path d=\"M0.000000 0.000000 v540.000000\" class=\"line\"/><g class=\"guides\"><path d=\"M14.028891 0.000000 v540.000000\" class=\"guide line\"/><text x=\"14.028890876565297\" y=\"555.0\" class=\"\">…</text><title>FLB</title></g><g class=\"guides\"><path d=\"M20.348211 0.000000 v540.000000\" class=\"guide line\"/><text x=\"20.348211091234347\" y=\"555.0\" class=\"\">…</text><title>JSK</title></g><g class=\"guides\"><path d=\"M26.667531 0.000000 v540.000000\" class=\"guide line\"/><text x=\"26.667531305903402\" y=\"555.0\" class=\"\">…</text><title>NOP</title></g><g class=\"guides\"><path d=\"M32.986852 0.000000 v540.000000\" class=\"guide line\"/><text x=\"32.98685152057246\" y=\"555.0\" class=\"\">…</text><title>TKN</title></g><g class=\"guides\"><path d=\"M39.306172 0.000000 v540.000000\" class=\"guide line\"/><text x=\"39.306171735241506\" y=\"555.0\" class=\"\">…</text><title>RPR</title></g><g class=\"guides\"><path d=\"M45.625492 0.000000 v540.000000\" class=\"guide line\"/><text x=\"45.62549194991056\" y=\"555.0\" class=\"\">…</text><title>GBD</title></g><g class=\"guides\"><path d=\"M51.944812 0.000000 v540.000000\" class=\"guide line\"/><text x=\"51.94481216457961\" y=\"555.0\" class=\"\">…</text><title>BGR</title></g><g class=\"guides\"><path d=\"M58.264132 0.000000 v540.000000\" class=\"guide line\"/><text x=\"58.264132379248665\" y=\"555.0\" class=\"\">…</text><title>BRP</title></g><g class=\"guides\"><path d=\"M64.583453 0.000000 v540.000000\" class=\"guide line\"/><text x=\"64.58345259391771\" y=\"555.0\" class=\"\">…</text><title>JHT</title></g><g class=\"guides\"><path d=\"M70.902773 0.000000 v540.000000\" class=\"guide line\"/><text x=\"70.90277280858676\" y=\"555.0\" class=\"\">…</text><title>SDP</title></g><g class=\"guides\"><path d=\"M77.222093 0.000000 v540.000000\" class=\"guide line\"/><text x=\"77.22209302325581\" y=\"555.0\" class=\"\">…</text><title>NOG</title></g><g class=\"guides\"><path d=\"M83.541413 0.000000 v540.000000\" class=\"guide line\"/><text x=\"83.54141323792486\" y=\"555.0\" class=\"\">…</text><title>NTR</title></g><g class=\"guides\"><path d=\"M89.860733 0.000000 v540.000000\" class=\"guide line\"/><text x=\"89.86073345259392\" y=\"555.0\" class=\"\">…</text><title>PBN</title></g><g class=\"guides\"><path d=\"M96.180054 0.000000 v540.000000\" class=\"guide line\"/><text x=\"96.18005366726297\" y=\"555.0\" class=\"\">…</text><title>RNM</title></g><g class=\"guides\"><path d=\"M102.499374 0.000000 v540.000000\" class=\"guide line\"/><text x=\"102.49937388193202\" y=\"555.0\" class=\"\">…</text><title>RLP</title></g><g class=\"guides\"><path d=\"M108.818694 0.000000 v540.000000\" class=\"guide line\"/><text x=\"108.81869409660106\" y=\"555.0\" class=\"\">…</text><title>RSB</title></g><g class=\"guides\"><path d=\"M115.138014 0.000000 v540.000000\" class=\"guide line\"/><text x=\"115.13801431127013\" y=\"555.0\" class=\"\">…</text><title>SSR</title></g><g class=\"guides\"><path d=\"M121.457335 0.000000 v540.000000\" class=\"guide line\"/><text x=\"121.45733452593917\" y=\"555.0\" class=\"\">…</text><title>NRL</title></g><g class=\"guides\"><path d=\"M127.776655 0.000000 v540.000000\" class=\"guide line\"/><text x=\"127.77665474060821\" y=\"555.0\" class=\"\">…</text><title>MCR</title></g><g class=\"guides\"><path d=\"M134.095975 0.000000 v540.000000\" class=\"guide line\"/><text x=\"134.09597495527728\" y=\"555.0\" class=\"\">…</text><title>ISD</title></g><g class=\"guides\"><path d=\"M140.415295 0.000000 v540.000000\" class=\"guide line\"/><text x=\"140.41529516994635\" y=\"555.0\" class=\"\">…</text><title>BGR</title></g><g class=\"guides\"><path d=\"M146.734615 0.000000 v540.000000\" class=\"guide line\"/><text x=\"146.73461538461538\" y=\"555.0\" class=\"\">…</text><title>RSB</title></g><g class=\"guides\"><path d=\"M153.053936 0.000000 v540.000000\" class=\"guide line\"/><text x=\"153.05393559928447\" y=\"555.0\" class=\"\">…</text><title>MYS</title></g><g class=\"guides\"><path d=\"M159.373256 0.000000 v540.000000\" class=\"guide line\"/><text x=\"159.3732558139535\" y=\"555.0\" class=\"\">…</text><title>SSR</title></g><g class=\"guides\"><path d=\"M165.692576 0.000000 v540.000000\" class=\"guide line\"/><text x=\"165.69257602862257\" y=\"555.0\" class=\"\">…</text><title>CDG</title></g><g class=\"guides\"><path d=\"M172.011896 0.000000 v540.000000\" class=\"guide line\"/><text x=\"172.0118962432916\" y=\"555.0\" class=\"\">…</text><title>NOG</title></g><g class=\"guides\"><path d=\"M178.331216 0.000000 v540.000000\" class=\"guide line\"/><text x=\"178.33121645796066\" y=\"555.0\" class=\"\">…</text><title>CMA</title></g><g class=\"guides\"><path d=\"M184.650537 0.000000 v540.000000\" class=\"guide line\"/><text x=\"184.65053667262973\" y=\"555.0\" class=\"\">…</text><title>MHP</title></g><g class=\"guides\"><path d=\"M190.969857 0.000000 v540.000000\" class=\"guide line\"/><text x=\"190.96985688729876\" y=\"555.0\" class=\"\">…</text><title>MCR</title></g><g class=\"guides\"><path d=\"M197.289177 0.000000 v540.000000\" class=\"guide line\"/><text x=\"197.2891771019678\" y=\"555.0\" class=\"\">…</text><title>JND</title></g><g class=\"guides\"><path d=\"M203.608497 0.000000 v540.000000\" class=\"guide line\"/><text x=\"203.60849731663689\" y=\"555.0\" class=\"\">…</text><title>JLK</title></g><g class=\"guides\"><path d=\"M209.927818 0.000000 v540.000000\" class=\"guide line\"/><text x=\"209.92781753130592\" y=\"555.0\" class=\"\">…</text><title>MAZ</title></g><g class=\"guides\"><path d=\"M216.247138 0.000000 v540.000000\" class=\"guide line\"/><text x=\"216.24713774597498\" y=\"555.0\" class=\"\">…</text><title>HGJ</title></g><g class=\"guides\"><path d=\"M222.566458 0.000000 v540.000000\" class=\"guide line\"/><text x=\"222.56645796064404\" y=\"555.0\" class=\"\">…</text><title>BHL</title></g><g class=\"guides\"><path d=\"M228.885778 0.000000 v540.000000\" class=\"guide line\"/><text x=\"228.88577817531308\" y=\"555.0\" class=\"\">…</text><title>MKJ</title></g><g class=\"guides\"><path d=\"M235.205098 0.000000 v540.000000\" class=\"guide line\"/><text x=\"235.20509838998214\" y=\"555.0\" class=\"\">…</text><title>JSR</title></g><g class=\"guides\"><path d=\"M241.524419 0.000000 v540.000000\" class=\"guide line\"/><text x=\"241.52441860465117\" y=\"555.0\" class=\"\">…</text><title>PBN</title></g><g class=\"guides\"><path d=\"M247.843739 0.000000 v540.000000\" class=\"guide line\"/><text x=\"247.84373881932024\" y=\"555.0\" class=\"\">…</text><title>BRP</title></g><g class=\"guides\"><path d=\"M254.163059 0.000000 v540.000000\" class=\"guide line\"/><text x=\"254.16305903398933\" y=\"555.0\" class=\"\">…</text><title>GBD</title></g><g class=\"guides\"><path d=\"M260.482379 0.000000 v540.000000\" class=\"guide line\"/><text x=\"260.48237924865833\" y=\"555.0\" class=\"\">…</text><title>SDP</title></g><g class=\"guides\"><path d=\"M266.801699 0.000000 v540.000000\" class=\"guide line\"/><text x=\"266.8016994633274\" y=\"555.0\" class=\"\">…</text><title>GOP</title></g><g class=\"guides\"><path d=\"M273.121020 0.000000 v540.000000\" class=\"guide line\"/><text x=\"273.1210196779964\" y=\"555.0\" class=\"\">…</text><title>DMP</title></g><g class=\"guides\"><path d=\"M279.440340 0.000000 v540.000000\" class=\"guide line\"/><text x=\"279.44033989266546\" y=\"555.0\" class=\"\">…</text><title>DPB</title></g><g class=\"guides\"><path d=\"M285.759660 0.000000 v540.000000\" class=\"guide line\"/><text x=\"285.7596601073345\" y=\"555.0\" class=\"\">…</text><title>CHR</title></g><g class=\"guides\"><path d=\"M292.078980 0.000000 v540.000000\" class=\"guide line\"/><text x=\"292.07898032200364\" y=\"555.0\" class=\"\">…</text><title>NSD</title></g><g class=\"guides\"><path d=\"M298.398301 0.000000 v540.000000\" class=\"guide line\"/><text x=\"298.3983005366727\" y=\"555.0\" class=\"\">…</text><title>DJA</title></g><g class=\"guides\"><path d=\"M304.717621 0.000000 v540.000000\" class=\"guide line\"/><text x=\"304.7176207513417\" y=\"555.0\" class=\"\">…</text><title>DZT</title></g><g class=\"guides\"><path d=\"M311.036941 0.000000 v540.000000\" class=\"guide line\"/><text x=\"311.0369409660108\" y=\"555.0\" class=\"\">…</text><title>SVR</title></g><g class=\"guides\"><path d=\"M317.356261 0.000000 v540.000000\" class=\"guide line\"/><text x=\"317.35626118067984\" y=\"555.0\" class=\"\">…</text><title>DAM</title></g><g class=\"guides\"><path d=\"M323.675581 0.000000 v540.000000\" class=\"guide line\"/><text x=\"323.67558139534884\" y=\"555.0\" class=\"\">…</text><title>TKN</title></g><g class=\"guides\"><path d=\"M329.994902 0.000000 v540.000000\" class=\"guide line\"/><text x=\"329.9949016100179\" y=\"555.0\" class=\"\">…</text><title>DMJ</title></g><g class=\"guides\"><path d=\"M336.314222 0.000000 v540.000000\" class=\"guide line\"/><text x=\"336.3142218246869\" y=\"555.0\" class=\"\">…</text><title>DDP</title></g><g class=\"guides\"><path d=\"M342.633542 0.000000 v540.000000\" class=\"guide line\"/><text x=\"342.63354203935603\" y=\"555.0\" class=\"\">…</text><title>SRP</title></g><g class=\"guides\"><path d=\"M348.952862 0.000000 v540.000000\" class=\"guide line\"/><text x=\"348.9528622540251\" y=\"555.0\" class=\"\">…</text><title>RBR</title></g><g class=\"guides\"><path d=\"M355.272182 0.000000 v540.000000\" class=\"guide line\"/><text x=\"355.27218246869415\" y=\"555.0\" class=\"\">…</text><title>JDP</title></g><g class=\"guides\"><path d=\"M361.591503 0.000000 v540.000000\" class=\"guide line\"/><text x=\"361.5915026833632\" y=\"555.0\" class=\"\">…</text><title>JPR</title></g><g class=\"guides\"><path d=\"M367.910823 0.000000 v540.000000\" class=\"guide line\"/><text x=\"367.9108228980322\" y=\"555.0\" class=\"\">…</text><title>JSK</title></g><g class=\"guides\"><path d=\"M374.230143 0.000000 v540.000000\" class=\"guide line\"/><text x=\"374.2301431127012\" y=\"555.0\" class=\"\">…</text><title>SKN</title></g><g class=\"guides\"><path d=\"M380.549463 0.000000 v540.000000\" class=\"guide line\"/><text x=\"380.5494633273703\" y=\"555.0\" class=\"\">…</text><title>DAB</title></g><g class=\"guides\"><path d=\"M386.868784 0.000000 v540.000000\" class=\"guide line\"/><text x=\"386.86878354203935\" y=\"555.0\" class=\"\">…</text><title>JPB</title></g><g class=\"guides\"><path d=\"M393.188104 0.000000 v540.000000\" class=\"guide line\"/><text x=\"393.1881037567084\" y=\"555.0\" class=\"\">…</text><title>KBM</title></g><g class=\"guides\"><path d=\"M399.507424 0.000000 v540.000000\" class=\"guide line\"/><text x=\"399.50742397137753\" y=\"555.0\" class=\"\">…</text><title>RPL</title></g><g class=\"guides\"><path d=\"M405.826744 0.000000 v540.000000\" class=\"guide line\"/><text x=\"405.82674418604654\" y=\"555.0\" class=\"\">…</text><title>MDP</title></g><g class=\"guides\"><path d=\"M412.146064 0.000000 v540.000000\" class=\"guide line\"/><text x=\"412.1460644007156\" y=\"555.0\" class=\"\">…</text><title>DUN</title></g><g class=\"guides\"><path d=\"M418.465385 0.000000 v540.000000\" class=\"guide line\"/><text x=\"418.46538461538466\" y=\"555.0\" class=\"\">…</text><title>NTR</title></g><g class=\"guides\"><path d=\"M424.784705 0.000000 v540.000000\" class=\"guide line\"/><text x=\"424.7847048300537\" y=\"555.0\" class=\"\">…</text><title>DAS</title></g><g class=\"guides\"><path d=\"M431.104025 0.000000 v540.000000\" class=\"guide line\"/><text x=\"431.10402504472273\" y=\"555.0\" class=\"\">…</text><title>DBR</title></g><g class=\"guides\"><path d=\"M437.423345 0.000000 v540.000000\" class=\"guide line\"/><text x=\"437.42334525939174\" y=\"555.0\" class=\"\">…</text><title>CRJ</title></g><g class=\"guides\"><path d=\"M443.742665 0.000000 v540.000000\" class=\"guide line\"/><text x=\"443.74266547406086\" y=\"555.0\" class=\"\">…</text><title>BBA</title></g><g class=\"guides\"><path d=\"M450.061986 0.000000 v540.000000\" class=\"guide line\"/><text x=\"450.0619856887299\" y=\"555.0\" class=\"\">…</text><title>CPR</title></g><g class=\"guides\"><path d=\"M456.381306 0.000000 v540.000000\" class=\"guide line\"/><text x=\"456.381305903399\" y=\"555.0\" class=\"\">…</text><title>CGM</title></g><g class=\"guides\"><path d=\"M462.700626 0.000000 v540.000000\" class=\"guide line\"/><text x=\"462.70062611806804\" y=\"555.0\" class=\"\">…</text><title>JTR</title></g><g class=\"guides\"><path d=\"M469.019946 0.000000 v540.000000\" class=\"guide line\"/><text x=\"469.0199463327371\" y=\"555.0\" class=\"\">…</text><title>MSJ</title></g><g class=\"guides\"><path d=\"M475.339267 0.000000 v540.000000\" class=\"guide line\"/><text x=\"475.3392665474061\" y=\"555.0\" class=\"\">…</text><title>TNL</title></g><g class=\"guides\"><path d=\"M481.658587 0.000000 v540.000000\" class=\"guide line\"/><text x=\"481.6585867620751\" y=\"555.0\" class=\"\">…</text><title>DRR</title></g><g class=\"guides\"><path d=\"M487.977907 0.000000 v540.000000\" class=\"guide line\"/><text x=\"487.9779069767442\" y=\"555.0\" class=\"\">…</text><title>RPR</title></g><g class=\"guides\"><path d=\"M494.297227 0.000000 v540.000000\" class=\"guide line\"/><text x=\"494.29722719141324\" y=\"555.0\" class=\"\">…</text><title>JHT</title></g><g class=\"guides\"><path d=\"M500.616547 0.000000 v540.000000\" class=\"guide line\"/><text x=\"500.6165474060824\" y=\"555.0\" class=\"\">…</text><title>RNM</title></g><g class=\"guides\"><path d=\"M506.935868 0.000000 v540.000000\" class=\"guide line\"/><text x=\"506.9358676207513\" y=\"555.0\" class=\"\">…</text><title>NOP</title></g><g class=\"guides\"><path d=\"M513.255188 0.000000 v540.000000\" class=\"guide line\"/><text x=\"513.2551878354204\" y=\"555.0\" class=\"\">…</text><title>PTL</title></g><g class=\"guides\"><path d=\"M519.574508 0.000000 v540.000000\" class=\"guide line\"/><text x=\"519.5745080500894\" y=\"555.0\" class=\"\">…</text><title>KTA</title></g><g class=\"guides\"><path d=\"M525.893828 0.000000 v540.000000\" class=\"guide line\"/><text x=\"525.8938282647586\" y=\"555.0\" class=\"\">…</text><title>DSP</title></g><g class=\"guides\"><path d=\"M532.213148 0.000000 v540.000000\" class=\"guide line\"/><text x=\"532.2131484794276\" y=\"555.0\" class=\"\">…</text><title>MGR</title></g><g class=\"guides\"><path d=\"M538.532469 0.000000 v540.000000\" class=\"guide line\"/><text x=\"538.5324686940966\" y=\"555.0\" class=\"\">…</text><title>KLN</title></g><g class=\"guides\"><path d=\"M544.851789 0.000000 v540.000000\" class=\"guide line\"/><text x=\"544.8517889087657\" y=\"555.0\" class=\"\">…</text><title>SKR</title></g><g class=\"guides\"><path d=\"M551.171109 0.000000 v540.000000\" class=\"guide line\"/><text x=\"551.1711091234347\" y=\"555.0\" class=\"\">…</text><title>LXR</title></g></g><g class=\"series serie-0 color-0\"><g class=\"bars\"><g class=\"bar\"><rect x=\"11.582050089445438\" y=\"437.4883366511248\" rx=\"0\" ry=\"0\" width=\"4.8936815742397135\" height=\"92.12704796425982\" class=\"rect reactive tooltip-trigger\"/><desc class=\"value\">19595</desc><desc class=\"x centered\">14.028890876565296</desc><desc class=\"y centered\">483.5518606332547</desc><desc class=\"x_label\">FLB</desc></g><g class=\"bar\"><rect x=\"17.90137030411449\" y=\"111.1766365256106\" rx=\"0\" ry=\"0\" width=\"4.8936815742397135\" height=\"418.43874808977404\" class=\"rect reactive tooltip-trigger\"/><desc class=\"value\">89000</desc><desc class=\"x centered\">20.348211091234347</desc><desc class=\"y centered\">320.39601057049765</desc><desc class=\"x_label\">JSK</desc></g><g class=\"bar\"><rect x=\"24.22069051878355\" y=\"295.36491062858795\" rx=\"0\" ry=\"0\" width=\"4.8936815742397135\" height=\"234.2504739867967\" class=\"rect reactive tooltip-trigger\"/><desc class=\"value\">49824</desc><desc class=\"x centered\">26.667531305903406</desc><desc class=\"y centered\">412.4901476219863</desc><desc class=\"x_label\">NOP</desc></g><g class=\"bar\"><rect x=\"30.540010733452597\" y=\"445.9652474691682\" rx=\"0\" ry=\"0\" width=\"4.8936815742397135\" height=\"83.65013714621642\" class=\"rect reactive tooltip-trigger\"/><desc class=\"value\">17792</desc><desc class=\"x centered\">32.98685152057245</desc><desc class=\"y centered\">487.79031604227646</desc><desc class=\"x_label\">TKN</desc></g><g class=\"bar\"><rect x=\"36.85933094812164\" y=\"10.384615384615358\" rx=\"0\" ry=\"0\" width=\"4.8936815742397135\" height=\"519.2307692307693\" class=\"rect reactive tooltip-trigger\"/><desc class=\"value\">110438</desc><desc class=\"x centered\">39.30617173524149</desc><desc class=\"y centered\">270.0</desc><desc class=\"x_label\">RPR</desc></g></g></g></g><g class=\"titles\"><text x=\"122.79999999999998\" y=\"316.0\" class=\"title\" transform=\"rotate(-90 122.800000 290.000000)\">NET MONTHLY PAYABLE</text></g><g transform=\"translate(214, 20)\" class=\"plot overlay\"><g class=\"series serie-0 color-0\"/></g><g transform=\"translate(214, 20)\" class=\"plot text-overlay\"><g class=\"series serie-0 color-0\"/></g><g transform=\"translate(214, 20)\" class=\"plot tooltip-overlay\"><g transform=\"translate(0 0)\" style=\"opacity: 0\" class=\"tooltip\"><rect rx=\"0\" ry=\"0\" width=\"0\" height=\"0\" class=\"tooltip-box\"/><g class=\"text\"/></g></g><g transform=\"translate(10, 30)\" class=\"legends\"><g id=\"activate-serie-0\" class=\"legend reactive activate-serie\"><rect x=\"0.0\" y=\"1.0\" width=\"12\" height=\"12\" class=\"color-0 reactive\"/><text x=\"17.0\" y=\"11.2\">Python Repos</text></g></g><g transform=\"translate(790, 30)\" class=\"legends\"/></g></svg>",
            "image/png": "[encoded data removed]"
          },
          "metadata": {},
          "execution_count": 66
        }
      ]
    },
    {
      "cell_type": "code",
      "source": [
        "print(data['NET MONTHLY PAYABLE'])"
      ],
      "metadata": {
        "colab": {
          "base_uri": "https://localhost:8080/"
        },
        "id": "Z2sMqR7dk1yf",
        "outputId": "bc010f7b-e391-4899-bbae-c88b7f50345c"
      },
      "execution_count": 55,
      "outputs": [
        {
          "output_type": "stream",
          "name": "stdout",
          "text": [
            "0            NaN\n",
            "1      19,595.00\n",
            "2      89,000.00\n",
            "3      49,824.00\n",
            "4      17,792.00\n",
            "         ...    \n",
            "82    110,438.00\n",
            "83          0.00\n",
            "84     90,852.00\n",
            "85     31,667.70\n",
            "86     73,238.00\n",
            "Name: NET MONTHLY PAYABLE, Length: 87, dtype: object\n"
          ]
        }
      ]
    }
  ]
}